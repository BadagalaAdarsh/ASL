{
 "cells": [
  {
   "cell_type": "code",
   "execution_count": 1,
   "metadata": {
    "execution": {
     "iopub.execute_input": "2021-06-24T17:34:58.222887Z",
     "iopub.status.busy": "2021-06-24T17:34:58.222156Z",
     "iopub.status.idle": "2021-06-24T17:35:04.309492Z",
     "shell.execute_reply": "2021-06-24T17:35:04.308490Z",
     "shell.execute_reply.started": "2021-06-24T16:32:48.018688Z"
    },
    "papermill": {
     "duration": 6.100798,
     "end_time": "2021-06-24T17:35:04.309688",
     "exception": false,
     "start_time": "2021-06-24T17:34:58.208890",
     "status": "completed"
    },
    "tags": []
   },
   "outputs": [],
   "source": [
    "import numpy as np\n",
    "from keras import utils, callbacks\n",
    "from keras.models import Sequential\n",
    "from keras.models import Model\n",
    "from keras.applications.vgg16 import VGG16\n",
    "from keras.layers.core import Flatten, Dense, Dropout\n",
    "from keras.layers.convolutional import Convolution2D, MaxPooling2D, ZeroPadding2D\n",
    "from keras.optimizers import Adam\n",
    "from sklearn.model_selection import train_test_split, StratifiedKFold\n",
    "#from keras.preprocessing.image import load_img, img_to_array\n",
    "from skimage.transform import resize\n",
    "import tensorflow as tf\n",
    "from tensorflow.keras.preprocessing.image import ImageDataGenerator"
   ]
  },
  {
   "cell_type": "code",
   "execution_count": 2,
   "metadata": {
    "execution": {
     "iopub.execute_input": "2021-06-24T17:35:04.327644Z",
     "iopub.status.busy": "2021-06-24T17:35:04.325916Z",
     "iopub.status.idle": "2021-06-24T17:35:04.328474Z",
     "shell.execute_reply": "2021-06-24T17:35:04.328905Z",
     "shell.execute_reply.started": "2021-06-24T16:32:59.337724Z"
    },
    "papermill": {
     "duration": 0.012467,
     "end_time": "2021-06-24T17:35:04.329037",
     "exception": false,
     "start_time": "2021-06-24T17:35:04.316570",
     "status": "completed"
    },
    "tags": []
   },
   "outputs": [],
   "source": [
    "train_directory = \"../input/asl-alphabet/asl_alphabet_train/asl_alphabet_train\"\n",
    "#test_directory = \"../input/asl-alphabet/asl_alphabet_test/asl_alphabet_test\""
   ]
  },
  {
   "cell_type": "code",
   "execution_count": 3,
   "metadata": {
    "execution": {
     "iopub.execute_input": "2021-06-24T17:35:04.344797Z",
     "iopub.status.busy": "2021-06-24T17:35:04.344141Z",
     "iopub.status.idle": "2021-06-24T17:35:04.347043Z",
     "shell.execute_reply": "2021-06-24T17:35:04.346605Z",
     "shell.execute_reply.started": "2021-06-24T16:33:01.111532Z"
    },
    "papermill": {
     "duration": 0.012062,
     "end_time": "2021-06-24T17:35:04.347162",
     "exception": false,
     "start_time": "2021-06-24T17:35:04.335100",
     "status": "completed"
    },
    "tags": []
   },
   "outputs": [],
   "source": [
    "classes = 29\n",
    "batch = 256\n",
    "epochs = 50\n",
    "lnr = 0.0001"
   ]
  },
  {
   "cell_type": "code",
   "execution_count": 4,
   "metadata": {
    "execution": {
     "iopub.execute_input": "2021-06-24T17:35:04.363744Z",
     "iopub.status.busy": "2021-06-24T17:35:04.363228Z",
     "iopub.status.idle": "2021-06-24T17:35:51.203812Z",
     "shell.execute_reply": "2021-06-24T17:35:51.204685Z",
     "shell.execute_reply.started": "2021-06-24T16:33:02.411450Z"
    },
    "papermill": {
     "duration": 46.85167,
     "end_time": "2021-06-24T17:35:51.204883",
     "exception": false,
     "start_time": "2021-06-24T17:35:04.353213",
     "status": "completed"
    },
    "tags": []
   },
   "outputs": [
    {
     "name": "stdout",
     "output_type": "stream",
     "text": [
      "Found 78300 images belonging to 29 classes.\n",
      "Found 8700 images belonging to 29 classes.\n"
     ]
    }
   ],
   "source": [
    "gen = ImageDataGenerator(rescale=1./255, validation_split=0.1) \n",
    "train = gen.flow_from_directory(\"../input/asl-alphabet/asl_alphabet_train/asl_alphabet_train\", \n",
    "                                                            target_size=(64, 64), subset=\"training\")\n",
    "val = gen.flow_from_directory(\"../input/asl-alphabet/asl_alphabet_train/asl_alphabet_train\", \n",
    "                                                            target_size=(64, 64), subset=\"validation\")"
   ]
  },
  {
   "cell_type": "code",
   "execution_count": 5,
   "metadata": {
    "execution": {
     "iopub.execute_input": "2021-06-24T17:35:51.224027Z",
     "iopub.status.busy": "2021-06-24T17:35:51.223504Z",
     "iopub.status.idle": "2021-06-24T17:35:54.557826Z",
     "shell.execute_reply": "2021-06-24T17:35:54.557286Z",
     "shell.execute_reply.started": "2021-06-24T16:34:08.728571Z"
    },
    "papermill": {
     "duration": 3.345896,
     "end_time": "2021-06-24T17:35:54.557954",
     "exception": false,
     "start_time": "2021-06-24T17:35:51.212058",
     "status": "completed"
    },
    "tags": []
   },
   "outputs": [
    {
     "name": "stdout",
     "output_type": "stream",
     "text": [
      "Downloading data from https://storage.googleapis.com/tensorflow/keras-applications/vgg16/vgg16_weights_tf_dim_ordering_tf_kernels_notop.h5\n",
      "58892288/58889256 [==============================] - 1s 0us/step\n"
     ]
    }
   ],
   "source": [
    "adam = Adam(learning_rate=lnr)\n",
    "model = Sequential()\n",
    "model.add(VGG16(weights='imagenet', include_top=False, input_shape=(64, 64, 3)))\n",
    "model.add(Flatten())\n",
    "model.add(Dense(256, activation='relu'))\n",
    "model.add(Dense(29, activation='softmax'))\n",
    "\n",
    "model.compile(optimizer=adam, loss='categorical_crossentropy', metrics=['accuracy'] )"
   ]
  },
  {
   "cell_type": "code",
   "execution_count": 6,
   "metadata": {
    "execution": {
     "iopub.execute_input": "2021-06-24T17:35:54.580771Z",
     "iopub.status.busy": "2021-06-24T17:35:54.580213Z",
     "iopub.status.idle": "2021-06-24T18:01:20.555895Z",
     "shell.execute_reply": "2021-06-24T18:01:20.556593Z",
     "shell.execute_reply.started": "2021-06-24T16:34:12.241774Z"
    },
    "papermill": {
     "duration": 1525.989432,
     "end_time": "2021-06-24T18:01:20.556817",
     "exception": false,
     "start_time": "2021-06-24T17:35:54.567385",
     "status": "completed"
    },
    "tags": []
   },
   "outputs": [
    {
     "name": "stdout",
     "output_type": "stream",
     "text": [
      "Epoch 1/50\n",
      "2447/2447 [==============================] - 483s 196ms/step - loss: 0.4633 - accuracy: 0.8639 - val_loss: 0.1054 - val_accuracy: 0.9672\n",
      "Epoch 2/50\n",
      "2447/2447 [==============================] - 144s 59ms/step - loss: 0.0213 - accuracy: 0.9942 - val_loss: 0.0943 - val_accuracy: 0.9767\n",
      "Epoch 3/50\n",
      "2447/2447 [==============================] - 146s 60ms/step - loss: 0.0102 - accuracy: 0.9975 - val_loss: 0.0406 - val_accuracy: 0.9892\n",
      "Epoch 4/50\n",
      "2447/2447 [==============================] - 148s 61ms/step - loss: 0.0209 - accuracy: 0.9954 - val_loss: 0.1278 - val_accuracy: 0.9679\n",
      "Epoch 5/50\n",
      "2447/2447 [==============================] - 147s 60ms/step - loss: 0.0103 - accuracy: 0.9976 - val_loss: 0.0596 - val_accuracy: 0.9837\n",
      "Epoch 6/50\n",
      "2447/2447 [==============================] - 148s 61ms/step - loss: 0.0068 - accuracy: 0.9986 - val_loss: 0.1134 - val_accuracy: 0.9761\n",
      "Epoch 7/50\n",
      "2447/2447 [==============================] - 148s 61ms/step - loss: 0.0070 - accuracy: 0.9987 - val_loss: 0.1054 - val_accuracy: 0.9769\n",
      "Epoch 8/50\n",
      "2447/2447 [==============================] - 158s 64ms/step - loss: 0.0054 - accuracy: 0.9990 - val_loss: 0.1298 - val_accuracy: 0.9693\n"
     ]
    }
   ],
   "source": [
    "earlystopping = callbacks.EarlyStopping(monitor=\"val_loss\", mode=\"min\", \n",
    "                                        patience=5, restore_best_weights = True)\n",
    "\n",
    "history = model.fit(train, validation_data = val, epochs=epochs, shuffle=True, verbose=1, \n",
    "                    callbacks = [earlystopping])"
   ]
  },
  {
   "cell_type": "code",
   "execution_count": 7,
   "metadata": {
    "execution": {
     "iopub.execute_input": "2021-06-24T18:01:29.620792Z",
     "iopub.status.busy": "2021-06-24T18:01:29.620281Z",
     "iopub.status.idle": "2021-06-24T18:01:30.106675Z",
     "shell.execute_reply": "2021-06-24T18:01:30.106244Z",
     "shell.execute_reply.started": "2021-06-24T17:23:13.287543Z"
    },
    "papermill": {
     "duration": 4.89652,
     "end_time": "2021-06-24T18:01:30.106800",
     "exception": false,
     "start_time": "2021-06-24T18:01:25.210280",
     "status": "completed"
    },
    "tags": []
   },
   "outputs": [
    {
     "name": "stdout",
     "output_type": "stream",
     "text": [
      "Found 28 images belonging to 1 classes.\n"
     ]
    },
    {
     "data": {
      "text/plain": [
       "array([ 1,  4,  0, 11,  6, 21,  3, 20, 23,  8, 24,  2, 19, 18, 27,  7, 28,\n",
       "       15, 10, 16,  9, 12, 13,  5, 17, 25, 22, 14])"
      ]
     },
     "execution_count": 7,
     "metadata": {},
     "output_type": "execute_result"
    }
   ],
   "source": [
    "test = ImageDataGenerator(rescale=1./255).flow_from_directory(\"../input/asl-alphabet/asl_alphabet_test\", \n",
    "                                                            target_size=(64, 64), class_mode=None)\n",
    "pred = model.predict(test)\n",
    "pred = np.argmax(pred, axis=1)\n",
    "pred"
   ]
  },
  {
   "cell_type": "code",
   "execution_count": 8,
   "metadata": {
    "execution": {
     "iopub.execute_input": "2021-06-24T18:01:38.501167Z",
     "iopub.status.busy": "2021-06-24T18:01:38.500327Z",
     "iopub.status.idle": "2021-06-24T18:01:38.818683Z",
     "shell.execute_reply": "2021-06-24T18:01:38.818203Z",
     "shell.execute_reply.started": "2021-06-24T17:33:52.957789Z"
    },
    "papermill": {
     "duration": 4.509794,
     "end_time": "2021-06-24T18:01:38.818815",
     "exception": false,
     "start_time": "2021-06-24T18:01:34.309021",
     "status": "completed"
    },
    "tags": []
   },
   "outputs": [],
   "source": [
    "model.save('final_model.h5')"
   ]
  },
  {
   "cell_type": "code",
   "execution_count": null,
   "metadata": {
    "papermill": {
     "duration": 4.205509,
     "end_time": "2021-06-24T18:01:47.446088",
     "exception": false,
     "start_time": "2021-06-24T18:01:43.240579",
     "status": "completed"
    },
    "tags": []
   },
   "outputs": [],
   "source": []
  }
 ],
 "metadata": {
  "kernelspec": {
   "display_name": "Python 3",
   "language": "python",
   "name": "python3"
  },
  "language_info": {
   "codemirror_mode": {
    "name": "ipython",
    "version": 3
   },
   "file_extension": ".py",
   "mimetype": "text/x-python",
   "name": "python",
   "nbconvert_exporter": "python",
   "pygments_lexer": "ipython3",
   "version": "3.7.9"
  },
  "papermill": {
   "default_parameters": {},
   "duration": 1620.458115,
   "end_time": "2021-06-24T18:01:53.420643",
   "environment_variables": {},
   "exception": null,
   "input_path": "__notebook__.ipynb",
   "output_path": "__notebook__.ipynb",
   "parameters": {},
   "start_time": "2021-06-24T17:34:52.962528",
   "version": "2.2.2"
  }
 },
 "nbformat": 4,
 "nbformat_minor": 4
}
